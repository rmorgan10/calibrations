{
 "cells": [
  {
   "cell_type": "code",
   "execution_count": 6,
   "metadata": {},
   "outputs": [],
   "source": [
    "import glob\n",
    "\n",
    "from astropy.io import fits\n",
    "from deeplenstronomy import deeplenstronomy as dl\n",
    "import numpy as np\n",
    "import matplotlib.pyplot as plt"
   ]
  },
  {
   "cell_type": "code",
   "execution_count": 2,
   "metadata": {},
   "outputs": [
    {
     "name": "stdout",
     "output_type": "stream",
     "text": [
      "Writing test_bg_cal.yaml\n"
     ]
    }
   ],
   "source": [
    "%%writefile test_bg_cal.yaml\n",
    "DATASET:\n",
    "    NAME: MyDeeplenstronomyDataset\n",
    "    PARAMETERS:\n",
    "        SIZE: 10\n",
    "        OUTDIR: BackgroundCalibration\n",
    "        SEED: 6\n",
    "\n",
    "COSMOLOGY:\n",
    "    PARAMETERS:\n",
    "        H0: 70\n",
    "        Om0: 0.3\n",
    "\n",
    "IMAGE:\n",
    "    PARAMETERS:\n",
    "        exposure_time: 90\n",
    "        numPix: 100\n",
    "        pixel_scale: 0.263\n",
    "        psf_type: 'GAUSSIAN'\n",
    "        read_noise: 7\n",
    "        ccd_gain: 6.083\n",
    "\n",
    "SURVEY:\n",
    "    PARAMETERS:\n",
    "        BANDS: g,r,i,z\n",
    "        seeing: 0.9\n",
    "        magnitude_zero_point: 30.0\n",
    "        sky_brightness: 23.5\n",
    "        num_exposures: 8\n",
    "\n",
    "SPECIES:\n",
    "    GALAXY_1:\n",
    "        NAME: LENS\n",
    "        LIGHT_PROFILE_1:\n",
    "            NAME: SERSIC_ELLIPSE\n",
    "            PARAMETERS:\n",
    "                magnitude: 20.0\n",
    "                center_x: 0.0\n",
    "                center_y: 0.0\n",
    "                R_sersic: 10\n",
    "                n_sersic: 4\n",
    "                e1: 0.2\n",
    "                e2: -0.1\n",
    "        MASS_PROFILE_1:\n",
    "            NAME: SIE \n",
    "            PARAMETERS:\n",
    "                theta_E: 1.1\n",
    "                e1: 0.1\n",
    "                e2: -0.1\n",
    "                center_x: 0.0\n",
    "                center_y: 0.0\n",
    "    GALAXY_2:\n",
    "        NAME: DARK_GALAXY\n",
    "        LIGHT_PROFILE_1:\n",
    "            NAME: SERSIC_ELLIPSE\n",
    "            PARAMETERS:\n",
    "                magnitude: 100.0\n",
    "                center_x: 0.0\n",
    "                center_y: 0.0\n",
    "                R_sersic: 10\n",
    "                n_sersic: 4\n",
    "                e1: 0.2\n",
    "                e2: -0.1\n",
    "        MASS_PROFILE_1:\n",
    "            NAME: SIE \n",
    "            PARAMETERS:\n",
    "                theta_E: 1.1\n",
    "                e1: 0.1\n",
    "                e2: -0.1\n",
    "                center_x: 0.0\n",
    "                center_y: 0.0\n",
    "         \n",
    "    POINTSOURCE_1:\n",
    "        NAME: STAR\n",
    "        HOST: DARK_GALAXY\n",
    "        PARAMETERS:\n",
    "            magnitude: 20.0\n",
    "\n",
    "GEOMETRY:\n",
    "    CONFIGURATION_1:\n",
    "        NAME: Galaxy\n",
    "        FRACTION: 0.5\n",
    "        PLANE_1:\n",
    "            OBJECT_1: LENS\n",
    "            PARAMETERS:\n",
    "                REDSHIFT: 0.2            \n",
    "        PLANE_2:\n",
    "            OBJECT_1: DARK_GALAXY\n",
    "            PARAMETERS:\n",
    "                REDSHIFT: 0.5\n",
    "              \n",
    "    CONFIGURATION_2:\n",
    "        NAME: Star\n",
    "        FRACTION: 0.5\n",
    "        PLANE_1:\n",
    "            OBJECT_1: DARK_GALAXY\n",
    "            OBJECT_2: STAR\n",
    "            PARAMETERS:\n",
    "                REDSHIFT: 0.2    \n",
    "        PLANE_2:\n",
    "            OBJECT_1: DARK_GALAXY\n",
    "            PARAMETERS:\n",
    "                REDSHIFT: 0.5\n"
   ]
  },
  {
   "cell_type": "code",
   "execution_count": 3,
   "metadata": {},
   "outputs": [
    {
     "name": "stdout",
     "output_type": "stream",
     "text": [
      "Entering main organization loop\n",
      "Organizing CONFIGURATION_1\n",
      "Organizing CONFIGURATION_2\n",
      "Generating images for CONFIGURATION_1\n",
      "\tProgress: 100.0 %  ---  Elapsed Time: 0 H 0 M 0 S         \n",
      "Generating images for CONFIGURATION_2\n",
      "\tProgress: 100.0 %  ---  Elapsed Time: 0 H 0 M 0 S         \n"
     ]
    }
   ],
   "source": [
    "dataset = dl.make_dataset('test_bg_cal.yaml', verbose=True)"
   ]
  },
  {
   "cell_type": "markdown",
   "metadata": {},
   "source": [
    "i band mag 20 galaxies\n",
    "\n",
    "```\n",
    "DESSCI ~> select RA, DEC from y3_gold_2_2 where mag_auto_i between 19.999 and 20.001 and EXTENDED_CLASS_COADD = 3 and ROWNUM <= 5;\n",
    "```\n",
    "\n",
    "```\n",
    "          RA        DEC\n",
    "1  35.364347 -61.456593\n",
    "2  33.796208 -62.211660\n",
    "3  30.270475 -43.254656\n",
    "4  33.054012 -43.102470\n",
    "5  35.408451 -64.422924\n",
    "```\n",
    "\n",
    "i band mag 20 stars\n",
    "\n",
    "```\n",
    "DESSCI ~> select RA, DEC from y3_gold_2_2 where mag_psf_i between 19.999 and 20.001 and EXTENDED_CLASS_COADD = 0 and ROWNUM <= 5;\n",
    "\n",
    "           RA        DEC\n",
    "1  327.098173 -65.112821\n",
    "2  324.465129 -56.393361\n",
    "3  316.102436 -46.738196\n",
    "4  320.071929 -57.211821\n",
    "5  326.738338 -64.671998\n",
    "```"
   ]
  },
  {
   "cell_type": "code",
   "execution_count": 5,
   "metadata": {},
   "outputs": [],
   "source": [
    "gals_files = glob.glob(\"calibration_galaxies/*/*/*.fits\")\n",
    "star_files = glob.glob(\"calibration_stars/*/*/*.fits\")"
   ]
  },
  {
   "cell_type": "code",
   "execution_count": 7,
   "metadata": {},
   "outputs": [],
   "source": [
    "gals_ims = []\n",
    "for file in gals_files:\n",
    "    hdu = fits.open(file)\n",
    "    gals_ims.append(hdu[\"SCI\"].data)\n",
    "    hdu.close()\n",
    "    \n",
    "star_ims = []\n",
    "for file in star_files:\n",
    "    hdu = fits.open(file)\n",
    "    star_ims.append(hdu[\"SCI\"].data)\n",
    "    hdu.close()"
   ]
  },
  {
   "cell_type": "code",
   "execution_count": 8,
   "metadata": {},
   "outputs": [],
   "source": [
    "def trim(arr):\n",
    "    \"\"\"\n",
    "    Set the pixel values in the 99.9th percentile to the median value\n",
    "    \"\"\"\n",
    "    med = np.median(arr)\n",
    "    cut = np.percentile(arr, 99.9)\n",
    "    return np.where(arr > cut, med, arr)\n",
    "    \n",
    "def crop_center(img,cropx,cropy):\n",
    "    \"\"\"\n",
    "    Crop the image to the center\n",
    "    \"\"\"\n",
    "    y,x = img.shape\n",
    "    startx = x//2-(cropx//2)\n",
    "    starty = y//2-(cropy//2)    \n",
    "    return img[starty:starty+cropy,startx:startx+cropx]\n",
    "\n",
    "def process(img, cropx=10, cropy=10):\n",
    "    \"\"\"\n",
    "    Crop edges and trim large values\n",
    "    \"\"\"\n",
    "    arr = crop_center(img,cropx,cropy)\n",
    "    return trim(arr)"
   ]
  },
  {
   "cell_type": "code",
   "execution_count": 9,
   "metadata": {},
   "outputs": [
    {
     "data": {
      "image/png": "[encoded data removed]",
      "text/plain": [
       "<Figure size 720x288 with 2 Axes>"
      ]
     },
     "metadata": {
      "needs_background": "light"
     },
     "output_type": "display_data"
    }
   ],
   "source": [
    "fig, axs = plt.subplots(1, 2, figsize=(10, 4))\n",
    "\n",
    "BINS=np.linspace(-50, 200, 20)\n",
    "hist_kwargs = {'alpha':0.2, 'bins': BINS, 'histtype': 'step'}\n",
    "\n",
    "for idx, im in enumerate(gals_ims):\n",
    "    axs[0].hist(process(im).flatten(), color='red', **hist_kwargs)\n",
    "    axs[0].axvline(np.sum(process(im).flatten() / 100), color='darkred', ls='--')\n",
    "for idx, im in enumerate(dataset.CONFIGURATION_1_images):\n",
    "    axs[0].hist(process(im[2,:,:]).flatten(), color='blue', **hist_kwargs)\n",
    "    axs[0].axvline(np.sum(process(im[2,:,:]).flatten() / 100), color='darkblue', ls='--')\n",
    "axs[0].set_title(\"Five i-band mag 20 galaxies\", fontsize=16)\n",
    "    \n",
    "for idx, im in enumerate(star_ims):\n",
    "    axs[1].hist(\n",
    "        process(im).flatten(), color='red', **hist_kwargs)\n",
    "    axs[1].axvline(\n",
    "        np.sum(process(im).flatten()) / 100, color='darkred', ls='--',\n",
    "        label = \"DES Y3\" if idx == 0 else None)\n",
    "for idx, im in enumerate(dataset.CONFIGURATION_2_images):\n",
    "    axs[1].hist(\n",
    "        process(im[2,:,:]).flatten(), color='blue', **hist_kwargs)\n",
    "    axs[1].axvline(\n",
    "        np.sum(process(im[2,:,:]).flatten()) / 100, color='darkblue', ls='--',\n",
    "        label = \"Simulated\" if idx == 0 else None)\n",
    "\n",
    "        \n",
    "axs[1].set_title(\"Five i-band mag 20 stars\", fontsize=16)\n",
    "\n",
    "axs[0].set_xlabel(\"Pixel Value\", fontsize=14)\n",
    "axs[1].set_xlabel(\"Pixel Value\", fontsize=14)\n",
    "\n",
    "axs[1].legend(fontsize=14)\n",
    "\n",
    "\n",
    "    \n",
    "fig.tight_layout()\n",
    "plt.show()\n",
    "plt.close()"
   ]
  },
  {
   "cell_type": "code",
   "execution_count": 10,
   "metadata": {},
   "outputs": [
    {
     "data": {
      "image/png": "[encoded data removed]",
      "text/plain": [
       "<Figure size 432x288 with 5 Axes>"
      ]
     },
     "metadata": {
      "needs_background": "light"
     },
     "output_type": "display_data"
    }
   ],
   "source": [
    "# Plot Real galaxy images\n",
    "fig, axs = plt.subplots(1, 5)\n",
    "for i in range(len(gals_ims)):\n",
    "    axs[i].imshow(process(gals_ims[i]))\n",
    "\n",
    "plt.show()\n",
    "plt.close()"
   ]
  },
  {
   "cell_type": "code",
   "execution_count": null,
   "metadata": {},
   "outputs": [],
   "source": []
  }
 ],
 "metadata": {
  "kernelspec": {
   "display_name": "Python 3",
   "language": "python",
   "name": "python3"
  },
  "language_info": {
   "codemirror_mode": {
    "name": "ipython",
    "version": 3
   },
   "file_extension": ".py",
   "mimetype": "text/x-python",
   "name": "python",
   "nbconvert_exporter": "python",
   "pygments_lexer": "ipython3",
   "version": "3.7.8"
  }
 },
 "nbformat": 4,
 "nbformat_minor": 2
}
